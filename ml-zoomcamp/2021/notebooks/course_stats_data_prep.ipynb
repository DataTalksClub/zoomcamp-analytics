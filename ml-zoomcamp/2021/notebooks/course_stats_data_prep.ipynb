{
 "cells": [
  {
   "cell_type": "code",
   "execution_count": 24,
   "id": "6a1a22ba",
   "metadata": {},
   "outputs": [],
   "source": [
    "import pandas as pd\n",
    "from hashlib import sha1\n"
   ]
  },
  {
   "cell_type": "code",
   "execution_count": 18,
   "id": "c083404d",
   "metadata": {},
   "outputs": [],
   "source": []
  },
  {
   "cell_type": "code",
   "execution_count": 19,
   "id": "ac58b7ca",
   "metadata": {},
   "outputs": [],
   "source": [
    "from glob import glob"
   ]
  },
  {
   "cell_type": "code",
   "execution_count": 23,
   "id": "ef67bc69",
   "metadata": {},
   "outputs": [],
   "source": [
    "def compute_hash(email):\n",
    "    return sha1(email.lower().encode('utf-8')).hexdigest()"
   ]
  },
  {
   "cell_type": "code",
   "execution_count": 68,
   "id": "eb96eab1",
   "metadata": {},
   "outputs": [],
   "source": [
    "dfs = []\n",
    "\n",
    "\n",
    "mapping = {\n",
    "    'Your email (the same you used for signing up)': 'email',\n",
    "    'How much time (in hours) did you spend on watching lectures and reading?': 'time_lectures',\n",
    "    'How much time (in hours) did you spend on homework?': 'time_homework',\n",
    "}\n",
    "\n",
    "for f in glob('homework-*.csv'):\n",
    "    if 'result' in f:\n",
    "        continue\n",
    "    df = pd.read_csv(f).rename(columns=mapping)[['email', 'time_lectures', 'time_homework']]\n",
    "    df['what'] = f[:-4]\n",
    "    \n",
    "    df.email = df.email.str.lower().str.strip()\n",
    "    df = df.drop_duplicates(subset=['email'], keep='last').reset_index(drop=True)\n",
    "    df.email = df.email + '_salt'\n",
    "    df['email'] = df.email.apply(compute_hash)\n",
    "    \n",
    "    dfs.append(df)"
   ]
  },
  {
   "cell_type": "code",
   "execution_count": 69,
   "id": "6b61991b",
   "metadata": {},
   "outputs": [],
   "source": [
    "mapping = {\n",
    "    'Your email (the same you used for signing up)': 'email',\n",
    "    'How much time (in hours) did you spend working on this project?': 'time_homework',\n",
    "}\n",
    "\n",
    "for f in ['midterm.csv', 'capstone.csv']:\n",
    "\n",
    "    df = pd.read_csv(f)\n",
    "    df = df.rename(columns=mapping)[['email', 'time_homework']]\n",
    "\n",
    "    df['what'] = f[:-4]\n",
    "\n",
    "    df.email = df.email.str.lower().str.strip()\n",
    "    df = df.drop_duplicates(subset=['email'], keep='last').reset_index(drop=True)\n",
    "    df.email = df.email + '_salt'\n",
    "    df['email'] = df.email.apply(compute_hash)\n",
    "    \n",
    "    dfs.append(df)"
   ]
  },
  {
   "cell_type": "code",
   "execution_count": 70,
   "id": "9d970629",
   "metadata": {},
   "outputs": [],
   "source": [
    "mapping = {\n",
    "    'Your email (the same you used for signing up)': 'email',\n",
    "    'How much time (in hours) did you spend evaluating this project?': 'time_homework',\n",
    "}\n",
    "\n",
    "for f in ['capstone-evaluations.csv', 'midterm-evaluation.csv']:\n",
    "\n",
    "    df = pd.read_csv(f)    \n",
    "    df = df.rename(columns=mapping)[['email', 'time_homework']]\n",
    "\n",
    "    df['what'] = f[:-4]\n",
    "\n",
    "    df.email = df.email.str.lower().str.strip()\n",
    "    df = df.drop_duplicates(subset=['email'], keep='last').reset_index(drop=True)\n",
    "    df.email = df.email + '_salt'\n",
    "    df['email'] = df.email.apply(compute_hash)\n",
    "\n",
    "    dfs.append(df)"
   ]
  },
  {
   "cell_type": "code",
   "execution_count": 71,
   "id": "a08b4f3c",
   "metadata": {},
   "outputs": [],
   "source": [
    "df = pd.concat(dfs)"
   ]
  },
  {
   "cell_type": "code",
   "execution_count": 73,
   "id": "d6a78186",
   "metadata": {},
   "outputs": [],
   "source": [
    "emails = set(df.email)"
   ]
  },
  {
   "cell_type": "code",
   "execution_count": 76,
   "id": "618cccdb",
   "metadata": {},
   "outputs": [],
   "source": [
    "dfs_email = []\n",
    "for f in glob(\"C:/Users/alexe/Dropbox/courses/ml-zoomcamp/added/*.csv\"):\n",
    "    dfs_email.append(pd.read_csv(f))"
   ]
  },
  {
   "cell_type": "code",
   "execution_count": 83,
   "id": "e7c9e0b5",
   "metadata": {},
   "outputs": [],
   "source": [
    "df_email = pd.concat(dfs_email)\n",
    "df_email = df_email.rename(columns={'Email': 'email', 'Role': 'role'})"
   ]
  },
  {
   "cell_type": "code",
   "execution_count": 84,
   "id": "2197776c",
   "metadata": {},
   "outputs": [],
   "source": [
    "df_email.email = df_email.email.str.lower().str.strip()\n",
    "df_email = df_email.drop_duplicates(subset=['email'], keep='last').reset_index(drop=True)\n",
    "df_email.email = df_email.email + '_salt'\n",
    "df_email['email'] = df_email.email.apply(compute_hash)"
   ]
  },
  {
   "cell_type": "code",
   "execution_count": 90,
   "id": "60ac0da1",
   "metadata": {},
   "outputs": [],
   "source": [
    "df_roles = df_email[df_email.email.isin(emails)][['email', 'role']].reset_index(drop=True)"
   ]
  },
  {
   "cell_type": "code",
   "execution_count": 92,
   "id": "5016cca6",
   "metadata": {},
   "outputs": [
    {
     "data": {
      "text/plain": [
       "Student (STEM)        122\n",
       "Software Engineer      67\n",
       "Other                  62\n",
       "Data Scientist         55\n",
       "Data Analyst           53\n",
       "Student (not STEM)     22\n",
       "Data Engineer          16\n",
       "ML Engineer            14\n",
       "Name: role, dtype: int64"
      ]
     },
     "execution_count": 92,
     "metadata": {},
     "output_type": "execute_result"
    }
   ],
   "source": [
    "df_roles.role.value_counts()"
   ]
  },
  {
   "cell_type": "code",
   "execution_count": 97,
   "id": "277fcb72",
   "metadata": {},
   "outputs": [],
   "source": [
    "df.to_csv('time_spent.csv', index=False)"
   ]
  },
  {
   "cell_type": "code",
   "execution_count": 98,
   "id": "e99fb464",
   "metadata": {},
   "outputs": [],
   "source": [
    "df_roles.to_csv('roles.csv', index=False)"
   ]
  },
  {
   "cell_type": "code",
   "execution_count": 96,
   "id": "ddabef0a",
   "metadata": {},
   "outputs": [
    {
     "name": "stdout",
     "output_type": "stream",
     "text": [
      "capstone.csv\n",
      "capstone_project_feedback.csv\n",
      "capstone-evaluations.csv\n",
      "capstone-fix.csv\n",
      "capstone-peer-reviews.csv\n",
      "capstone-project-results.csv\n",
      "evaluate_week.py\n",
      "evaluation_script.ipynb\n",
      "evaluation_script.py\n",
      "homework-1.csv\n",
      "homework-10.csv\n",
      "homework-1-results.csv\n",
      "homework-2.csv\n",
      "homework-2-results.csv\n",
      "homework-3.csv\n",
      "homework-3-results.csv\n",
      "homework-4.csv\n",
      "homework-4-results.csv\n",
      "homework-5.csv\n",
      "homework-5-results.csv\n",
      "homework-6.csv\n",
      "homework-6-results.csv\n",
      "homework-8.csv\n",
      "homework-8-results.csv\n",
      "homework-9.csv\n",
      "homework-9-results.csv\n",
      "join.py\n",
      "leaderboard.csv\n",
      "midterm.csv\n",
      "midterm_project_feedback.csv\n",
      "midterm-evaluation.csv\n",
      "midterm-peer-reviews.csv\n",
      "midterm-project-results.csv\n",
      "project-evaluate-assign.ipynb\n",
      "project-feedback.ipynb\n",
      "README.md\n",
      "roles.txt\n",
      "time_spent.txt\n",
      "tmp\n",
      "Untitled.ipynb\n",
      "week1_answers.json\n",
      "week2_answers.json\n",
      "week3_answers.json\n",
      "week4_answers.json\n",
      "week5_answers.json\n",
      "week6_answers.json\n",
      "week8_answers.json\n",
      "week9_answers.json\n"
     ]
    }
   ],
   "source": [
    "!ls"
   ]
  },
  {
   "cell_type": "code",
   "execution_count": null,
   "id": "07b17253",
   "metadata": {},
   "outputs": [],
   "source": []
  }
 ],
 "metadata": {
  "kernelspec": {
   "display_name": "Python 3 (ipykernel)",
   "language": "python",
   "name": "python3"
  },
  "language_info": {
   "codemirror_mode": {
    "name": "ipython",
    "version": 3
   },
   "file_extension": ".py",
   "mimetype": "text/x-python",
   "name": "python",
   "nbconvert_exporter": "python",
   "pygments_lexer": "ipython3",
   "version": "3.9.7"
  }
 },
 "nbformat": 4,
 "nbformat_minor": 5
}
