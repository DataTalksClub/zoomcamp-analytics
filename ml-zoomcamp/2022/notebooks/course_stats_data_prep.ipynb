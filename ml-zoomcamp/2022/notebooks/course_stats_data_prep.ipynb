{
 "cells": [
  {
   "cell_type": "code",
   "execution_count": 1,
   "id": "d966a49a",
   "metadata": {},
   "outputs": [],
   "source": [
    "import pandas as pd\n",
    "from hashlib import sha1"
   ]
  },
  {
   "cell_type": "code",
   "execution_count": 2,
   "id": "4218f31a",
   "metadata": {},
   "outputs": [],
   "source": [
    "import os\n",
    "from glob import glob"
   ]
  },
  {
   "cell_type": "code",
   "execution_count": 3,
   "id": "0cbc5063",
   "metadata": {},
   "outputs": [],
   "source": [
    "def compute_hash(email):\n",
    "    return sha1(email.lower().encode('utf-8')).hexdigest()"
   ]
  },
  {
   "cell_type": "code",
   "execution_count": 4,
   "id": "acbcfb43",
   "metadata": {},
   "outputs": [],
   "source": [
    "DATA_DIR = 'data'\n",
    "RAW_DATA = f'..\\\\{DATA_DIR}\\\\raw\\\\'\n",
    "STATS_DATA = f'..\\\\{DATA_DIR}\\\\statistics\\\\'"
   ]
  },
  {
   "cell_type": "code",
   "execution_count": 5,
   "id": "aaa195ca",
   "metadata": {},
   "outputs": [],
   "source": [
    "dfs = []\n",
    "\n",
    "mapping = {\n",
    "    'Email address': 'email',\n",
    "    'Email Address': 'email',\n",
    "    'How much time (in hours) did you spend on watching lectures and reading?': 'time_lectures',\n",
    "    'How much time (in hours) did you spend on homework?': 'time_homework',\n",
    "}\n",
    "\n",
    "for f in glob(RAW_DATA + 'homework-*.csv'):\n",
    "    if 'result' in f:\n",
    "        continue\n",
    "    df = pd.read_csv(f).rename(columns=mapping)[['email', 'time_lectures', 'time_homework']]\n",
    "    df['what'] = os.path.basename(f[:-4])\n",
    "    \n",
    "    df.email = df.email.str.lower().str.strip()\n",
    "    df = df.drop_duplicates(subset=['email'], keep='last').reset_index(drop=True)\n",
    "    df.email = df.email + '_salt'\n",
    "    df['email'] = df.email.apply(compute_hash)\n",
    "    \n",
    "    dfs.append(df)"
   ]
  },
  {
   "cell_type": "code",
   "execution_count": 6,
   "id": "ab1ccd09",
   "metadata": {},
   "outputs": [],
   "source": [
    "mapping = {\n",
    "    'Email address': 'email',\n",
    "    'How much time (in hours) did you spend working on this project?': 'time_homework',\n",
    "}\n",
    "\n",
    "for f in glob(RAW_DATA + 'project-*-submissions.csv'):\n",
    "\n",
    "    df = pd.read_csv(f)\n",
    "    df = df.rename(columns=mapping)[['email', 'time_homework']]\n",
    "\n",
    "    df['what'] = os.path.basename(f[:-4])\n",
    "\n",
    "    df.email = df.email.str.lower().str.strip()\n",
    "    df = df.drop_duplicates(subset=['email'], keep='last').reset_index(drop=True)\n",
    "    df.email = df.email + '_salt'\n",
    "    df['email'] = df.email.apply(compute_hash)\n",
    "    \n",
    "    dfs.append(df)"
   ]
  },
  {
   "cell_type": "code",
   "execution_count": 7,
   "id": "09e37cb5",
   "metadata": {},
   "outputs": [],
   "source": [
    "mapping = {\n",
    "    'Email address': 'email',\n",
    "    'How much time (in hours) did you spend evaluating this project?': 'time_homework',\n",
    "}\n",
    "\n",
    "for f in glob(RAW_DATA + 'project-*-eval.csv'):\n",
    "\n",
    "    df = pd.read_csv(f)    \n",
    "    df = df.rename(columns=mapping)[['email', 'time_homework']]\n",
    "\n",
    "    df['what'] = os.path.basename(f[:-4])\n",
    "\n",
    "    df.email = df.email.str.lower().str.strip()\n",
    "    df = df.drop_duplicates(subset=['email'], keep='last').reset_index(drop=True)\n",
    "    df.email = df.email + '_salt'\n",
    "    df['email'] = df.email.apply(compute_hash)\n",
    "\n",
    "    dfs.append(df)"
   ]
  },
  {
   "cell_type": "code",
   "execution_count": 8,
   "id": "ab8e57bc",
   "metadata": {},
   "outputs": [],
   "source": [
    "df = pd.concat(dfs)"
   ]
  },
  {
   "cell_type": "code",
   "execution_count": 9,
   "id": "9a617400",
   "metadata": {},
   "outputs": [],
   "source": [
    "if not os.path.exists(STATS_DATA):\n",
    "    os.mkdir(STATS_DATA)"
   ]
  },
  {
   "cell_type": "code",
   "execution_count": 10,
   "id": "352b099e",
   "metadata": {},
   "outputs": [],
   "source": [
    "df.to_csv(STATS_DATA + 'time_spent.csv', index=False)"
   ]
  },
  {
   "cell_type": "code",
   "execution_count": 11,
   "id": "54b41b4b",
   "metadata": {},
   "outputs": [
    {
     "name": "stdout",
     "output_type": "stream",
     "text": [
      "time_spent.csv\n"
     ]
    }
   ],
   "source": [
    "!ls ..\\data\\statistics"
   ]
  }
 ],
 "metadata": {
  "kernelspec": {
   "display_name": "Python 3 (ipykernel)",
   "language": "python",
   "name": "python3"
  },
  "language_info": {
   "codemirror_mode": {
    "name": "ipython",
    "version": 3
   },
   "file_extension": ".py",
   "mimetype": "text/x-python",
   "name": "python",
   "nbconvert_exporter": "python",
   "pygments_lexer": "ipython3",
   "version": "3.9.0"
  }
 },
 "nbformat": 4,
 "nbformat_minor": 5
}
